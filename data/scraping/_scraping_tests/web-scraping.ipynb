{
 "cells": [
  {
   "cell_type": "code",
   "execution_count": 1,
   "metadata": {},
   "outputs": [],
   "source": [
    "# import libraries\n",
    "import pandas as pd\n",
    "import requests\n",
    "from bs4 import BeautifulSoup"
   ]
  },
  {
   "cell_type": "code",
   "execution_count": 12,
   "metadata": {},
   "outputs": [
    {
     "name": "stdout",
     "output_type": "stream",
     "text": [
      "Scraping page nr  1/10 (Posts found: 20, total scraped: 212)\n",
      "Scraping page nr  2/10 (Posts found: 20, total scraped: 212)\n",
      "Scraping page nr  3/10 (Posts found: 20, total scraped: 212)\n",
      "Scraping page nr  4/10 (Posts found: 20, total scraped: 212)\n",
      "Scraping page nr  5/10 (Posts found: 20, total scraped: 212)\n",
      "Scraping page nr  6/10 (Posts found: 20, total scraped: 212)\n",
      "Scraping page nr  7/10 (Posts found: 20, total scraped: 212)\n",
      "Scraping page nr  8/10 (Posts found: 20, total scraped: 212)\n",
      "Scraping page nr  9/10 (Posts found: 20, total scraped: 212)\n",
      "Scraping page nr 10/10 (Posts found: 20, total scraped: 212)\n"
     ]
    }
   ],
   "source": [
    "for page_nr in range(1, pages_to_scrape+1):\n",
    "    print(f\"Scraping page nr. {page_nr:2}/{pages_to_scrape} (Posts found: {len(posts)}, total scraped: {len(posts_dict)})\")"
   ]
  },
  {
   "cell_type": "code",
   "execution_count": null,
   "metadata": {},
   "outputs": [
    {
     "name": "stdout",
     "output_type": "stream",
     "text": [
      "dict_items([('1234_2', {'text': 'abc', 'count': 2}), ('7567', {'text': 'klm', 'count': 2})])\n"
     ]
    },
    {
     "ename": "ValueError",
     "evalue": "too many values to unpack (expected 2)",
     "output_type": "error",
     "traceback": [
      "\u001b[1;31m---------------------------------------------------------------------------\u001b[0m",
      "\u001b[1;31mValueError\u001b[0m                                Traceback (most recent call last)",
      "Cell \u001b[1;32mIn[106], line 7\u001b[0m\n\u001b[0;32m      3\u001b[0m b \u001b[38;5;241m=\u001b[39m {\u001b[38;5;124m\"\u001b[39m\u001b[38;5;124m1234_2\u001b[39m\u001b[38;5;124m\"\u001b[39m: {\u001b[38;5;124m\"\u001b[39m\u001b[38;5;124mauthor\u001b[39m\u001b[38;5;124m\"\u001b[39m: \u001b[38;5;124m\"\u001b[39m\u001b[38;5;124mdef\u001b[39m\u001b[38;5;124m\"\u001b[39m, \u001b[38;5;124m\"\u001b[39m\u001b[38;5;124mtype\u001b[39m\u001b[38;5;124m\"\u001b[39m: \u001b[38;5;124m\"\u001b[39m\u001b[38;5;124mxyz\u001b[39m\u001b[38;5;124m\"\u001b[39m}}\n\u001b[0;32m      5\u001b[0m \u001b[38;5;28mprint\u001b[39m(a\u001b[38;5;241m.\u001b[39mitems())\n\u001b[1;32m----> 7\u001b[0m \u001b[43m{\u001b[49m\u001b[43mkey\u001b[49m\u001b[43m:\u001b[49m\u001b[43m \u001b[49m\u001b[43mvalues\u001b[49m\u001b[43m[\u001b[49m\u001b[38;5;124;43m\"\u001b[39;49m\u001b[38;5;124;43mtext\u001b[39;49m\u001b[38;5;124;43m\"\u001b[39;49m\u001b[43m]\u001b[49m\u001b[43m \u001b[49m\u001b[38;5;28;43;01mfor\u001b[39;49;00m\u001b[43m \u001b[49m\u001b[43mkey\u001b[49m\u001b[43m,\u001b[49m\u001b[43m \u001b[49m\u001b[43mvalues\u001b[49m\u001b[43m \u001b[49m\u001b[38;5;129;43;01min\u001b[39;49;00m\u001b[43m \u001b[49m\u001b[43ma\u001b[49m\u001b[43m}\u001b[49m\n",
      "Cell \u001b[1;32mIn[106], line 7\u001b[0m, in \u001b[0;36m<dictcomp>\u001b[1;34m(.0)\u001b[0m\n\u001b[0;32m      3\u001b[0m b \u001b[38;5;241m=\u001b[39m {\u001b[38;5;124m\"\u001b[39m\u001b[38;5;124m1234_2\u001b[39m\u001b[38;5;124m\"\u001b[39m: {\u001b[38;5;124m\"\u001b[39m\u001b[38;5;124mauthor\u001b[39m\u001b[38;5;124m\"\u001b[39m: \u001b[38;5;124m\"\u001b[39m\u001b[38;5;124mdef\u001b[39m\u001b[38;5;124m\"\u001b[39m, \u001b[38;5;124m\"\u001b[39m\u001b[38;5;124mtype\u001b[39m\u001b[38;5;124m\"\u001b[39m: \u001b[38;5;124m\"\u001b[39m\u001b[38;5;124mxyz\u001b[39m\u001b[38;5;124m\"\u001b[39m}}\n\u001b[0;32m      5\u001b[0m \u001b[38;5;28mprint\u001b[39m(a\u001b[38;5;241m.\u001b[39mitems())\n\u001b[1;32m----> 7\u001b[0m {key: values[\u001b[38;5;124m\"\u001b[39m\u001b[38;5;124mtext\u001b[39m\u001b[38;5;124m\"\u001b[39m] \u001b[38;5;28;01mfor\u001b[39;00m key, values \u001b[38;5;129;01min\u001b[39;00m a}\n",
      "\u001b[1;31mValueError\u001b[0m: too many values to unpack (expected 2)"
     ]
    }
   ],
   "source": [
    "a = {\"1234_2\": {\"text\": \"abc\", \"count\": 2}, \n",
    "     \"7567\": {\"text\": \"klm\", \"count\": 2},}\n",
    "b = {\"1234_2\": {\"author\": \"def\", \"type\": \"xyz\"}}\n",
    "\n",
    "print(a.items())\n",
    "\n",
    "{key: values[\"text\"] for key, values in a.items()}"
   ]
  },
  {
   "cell_type": "code",
   "execution_count": null,
   "metadata": {},
   "outputs": [],
   "source": []
  },
  {
   "cell_type": "code",
   "execution_count": 93,
   "metadata": {},
   "outputs": [
    {
     "data": {
      "text/plain": [
       "['https://www.boredpanda.com/page/1/', 'https://www.boredpanda.com/page/2/']"
      ]
     },
     "execution_count": 93,
     "metadata": {},
     "output_type": "execute_result"
    }
   ],
   "source": [
    "pages_to_scrape = 2\n",
    "\n",
    "BASE_URL = \"https://www.boredpanda.com/page/\"\n",
    "\n",
    "main_page_urls = [f\"{BASE_URL}{p}/\" for p in range(1, pages_to_scrape+1)]\n",
    "main_page_urls"
   ]
  },
  {
   "cell_type": "code",
   "execution_count": null,
   "metadata": {},
   "outputs": [
    {
     "name": "stdout",
     "output_type": "stream",
     "text": [
      "Scraping page nr.  1/2 (Posts found: 33, total scraped: 0)\n",
      "Scraping page nr.  2/2 (Posts found: 20, total scraped: 33)\n"
     ]
    }
   ],
   "source": [
    "# Set-Up\n",
    "headers = {'User-Agent': 'Mozilla/5.0 (Macintosh; Intel Mac OS X 10_11_5) AppleWebKit/537.36 (KHTML, like Gecko) Cafari/537.36'}\n",
    "pages_to_scrape = 2\n",
    "posts_dict = {}\n",
    "\n",
    "# Iterate through pages\n",
    "for page_nr in range(1, pages_to_scrape+1):\n",
    "    url = f\"https://www.boredpanda.com/page/{page_nr}/\"\n",
    "    r = requests.get(url, headers=headers)\n",
    "    \n",
    "    soup = BeautifulSoup(r.text, 'html.parser')\n",
    "    posts = soup.find_all(\"article\", class_=\"post\")\n",
    "\n",
    "    print(f\"Scraping page nr. {page_nr:2}/{pages_to_scrape} (Posts found: {len(posts)}, total scraped: {len(posts_dict)})\")\n",
    "\n",
    "    # Iterate through each post on the current page loaded.\n",
    "    for post in posts:\n",
    "        # Get post id. If already existent in dict, add suffix.\n",
    "        post_id = post[\"data-post-id\"]\n",
    "        while post_id in posts_dict:\n",
    "            post_id += \"_2\"\n",
    "            \n",
    "        # Access post to retrieve categories, date and number of postings.\n",
    "        post_url = post.find(\"a\")[\"href\"]\n",
    "        post_r = requests.get(post_url, headers=headers)\n",
    "        \n",
    "        post_soup = BeautifulSoup(post_r.text, 'lxml')\n",
    "\n",
    "        post_categories_date = post_soup.find(\"div\", class_=\"categories-list\")\n",
    "        post_categories = post_categories_date.find(\"div\", class_=\"categories\").text.strip()\n",
    "        post_date = post_categories_date.find(\"div\", class_=\"post-dates\").text.strip()\n",
    "        posts_total = post_soup.find_all(\"div\", class_=\"open-list-header\")\n",
    "        posts_shown = post_soup.find_all(\"div\", class_=\"open-list-item open-list-block clearfix\")\n",
    "        nr_postings_total = len(posts_total)\n",
    "        nr_postings_shown = len(posts_shown)\n",
    "\n",
    "        # Add post info to data dictionairy\n",
    "        posts_dict.update(\n",
    "            {post_id: {\n",
    "                \"title\": post.find(\"a\", class_=\"title\").text.strip(),\n",
    "                #\"categories\": post[\"data-categories\"],\n",
    "                \"voting\": int(post.find(\"p\", class_=\"votes-text\").text.strip()),\n",
    "                \"nr_comments\": (int(post.find(\"p\", class_=\"comment-text\").text.strip())\n",
    "                    if post.find(\"p\", class_=\"comment-text\") else None),\n",
    "                \"nr_postings_total\": nr_postings_total,\n",
    "                \"nr_postings_shown\": nr_postings_shown,\n",
    "                \"date_posted\": post_date,\n",
    "                \"categories\": post_categories,\n",
    "                \"has_experimental_title\": post[\"data-content-experiment-enabled\"],\n",
    "                \"page_nr\": page_nr,\n",
    "                \"link\": post_url\n",
    "            }}\n",
    "        )"
   ]
  },
  {
   "cell_type": "code",
   "execution_count": null,
   "metadata": {},
   "outputs": [],
   "source": [
    "#50.2s"
   ]
  },
  {
   "cell_type": "code",
   "execution_count": 17,
   "metadata": {},
   "outputs": [
    {
     "data": {
      "text/html": [
       "<div>\n",
       "<style scoped>\n",
       "    .dataframe tbody tr th:only-of-type {\n",
       "        vertical-align: middle;\n",
       "    }\n",
       "\n",
       "    .dataframe tbody tr th {\n",
       "        vertical-align: top;\n",
       "    }\n",
       "\n",
       "    .dataframe thead th {\n",
       "        text-align: right;\n",
       "    }\n",
       "</style>\n",
       "<table border=\"1\" class=\"dataframe\">\n",
       "  <thead>\n",
       "    <tr style=\"text-align: right;\">\n",
       "      <th></th>\n",
       "      <th>title</th>\n",
       "      <th>categories</th>\n",
       "      <th>voting</th>\n",
       "      <th>nr_comments</th>\n",
       "      <th>nr_postings</th>\n",
       "      <th>date_posted</th>\n",
       "      <th>post_categories</th>\n",
       "      <th>has_experimental_title</th>\n",
       "      <th>link</th>\n",
       "    </tr>\n",
       "    <tr>\n",
       "      <th>post_id</th>\n",
       "      <th></th>\n",
       "      <th></th>\n",
       "      <th></th>\n",
       "      <th></th>\n",
       "      <th></th>\n",
       "      <th></th>\n",
       "      <th></th>\n",
       "      <th></th>\n",
       "      <th></th>\n",
       "    </tr>\n",
       "  </thead>\n",
       "  <tbody>\n",
       "    <tr>\n",
       "      <th>8046358</th>\n",
       "      <td>Woman’s Viral ‘Medical Binder’ Idea Has People...</td>\n",
       "      <td>feminism,social-issues</td>\n",
       "      <td>34</td>\n",
       "      <td>9</td>\n",
       "      <td>0</td>\n",
       "      <td>Jan 25, 2025</td>\n",
       "      <td>Feminism, Social Issues</td>\n",
       "      <td>true</td>\n",
       "      <td>https://www.boredpanda.com/doctor-medical-bind...</td>\n",
       "    </tr>\n",
       "    <tr>\n",
       "      <th>8053723</th>\n",
       "      <td>RIP Brain Rot: Guy’s Viral Theory Suggests A M...</td>\n",
       "      <td>work-money</td>\n",
       "      <td>28</td>\n",
       "      <td>3</td>\n",
       "      <td>0</td>\n",
       "      <td>Jan 25, 2025</td>\n",
       "      <td>Work &amp; Money</td>\n",
       "      <td>true</td>\n",
       "      <td>https://www.boredpanda.com/post-brain-rot-era-...</td>\n",
       "    </tr>\n",
       "    <tr>\n",
       "      <th>8044900</th>\n",
       "      <td>Wife Gives Husband An Ultimatum Over Stepdaugh...</td>\n",
       "      <td>family,relationships</td>\n",
       "      <td>30</td>\n",
       "      <td>8</td>\n",
       "      <td>0</td>\n",
       "      <td>Jan 25, 2025</td>\n",
       "      <td>Family, Relationships</td>\n",
       "      <td>true</td>\n",
       "      <td>https://www.boredpanda.com/father-refuses-wife...</td>\n",
       "    </tr>\n",
       "    <tr>\n",
       "      <th>8084910</th>\n",
       "      <td>Justin Baldoni Shoots Down Blake Lively’s Gag ...</td>\n",
       "      <td>celebrities-news,news</td>\n",
       "      <td>-15</td>\n",
       "      <td>5</td>\n",
       "      <td>0</td>\n",
       "      <td>Jan 24, 2025</td>\n",
       "      <td>Celebrities, News</td>\n",
       "      <td>false</td>\n",
       "      <td>https://www.boredpanda.com/justin-baldoni-resp...</td>\n",
       "    </tr>\n",
       "    <tr>\n",
       "      <th>8084152</th>\n",
       "      <td>“Get One Yourself!”: Mom Unplugged Baby’s NICU...</td>\n",
       "      <td>news,world</td>\n",
       "      <td>3</td>\n",
       "      <td>31</td>\n",
       "      <td>0</td>\n",
       "      <td>Jan 24, 2025</td>\n",
       "      <td>News, World</td>\n",
       "      <td>false</td>\n",
       "      <td>https://www.boredpanda.com/mom-unplugs-babys-n...</td>\n",
       "    </tr>\n",
       "    <tr>\n",
       "      <th>8081543</th>\n",
       "      <td>Billionaire Dad Shares Son’s Nighttime Stats i...</td>\n",
       "      <td>lifestyle,news</td>\n",
       "      <td>-7</td>\n",
       "      <td>16</td>\n",
       "      <td>0</td>\n",
       "      <td>Jan 24, 2025</td>\n",
       "      <td>Lifestyle, News</td>\n",
       "      <td>false</td>\n",
       "      <td>https://www.boredpanda.com/billionaire-trying-...</td>\n",
       "    </tr>\n",
       "    <tr>\n",
       "      <th>8084800</th>\n",
       "      <td>Contents Of VIP Goodie Bags At Trump Inaugurat...</td>\n",
       "      <td>news</td>\n",
       "      <td>-7</td>\n",
       "      <td>10</td>\n",
       "      <td>0</td>\n",
       "      <td>Jan 24, 2025</td>\n",
       "      <td>News</td>\n",
       "      <td>false</td>\n",
       "      <td>https://www.boredpanda.com/trump-inauguration-...</td>\n",
       "    </tr>\n",
       "    <tr>\n",
       "      <th>8080021</th>\n",
       "      <td>Audrey Hepburn’s Son Breaks Silence On Ivanka ...</td>\n",
       "      <td>news,us</td>\n",
       "      <td>-23</td>\n",
       "      <td>28</td>\n",
       "      <td>0</td>\n",
       "      <td>Jan 24, 2025</td>\n",
       "      <td>News, US</td>\n",
       "      <td>false</td>\n",
       "      <td>https://www.boredpanda.com/audrey-hepburn-son-...</td>\n",
       "    </tr>\n",
       "    <tr>\n",
       "      <th>8080536</th>\n",
       "      <td>“Pretty Damning”: Hollywood Intimacy Coordinat...</td>\n",
       "      <td>celebrities-news,news</td>\n",
       "      <td>-29</td>\n",
       "      <td>16</td>\n",
       "      <td>0</td>\n",
       "      <td>Jan 24, 2025</td>\n",
       "      <td>Celebrities, News</td>\n",
       "      <td>false</td>\n",
       "      <td>https://www.boredpanda.com/intimacy-coordinato...</td>\n",
       "    </tr>\n",
       "    <tr>\n",
       "      <th>8061392</th>\n",
       "      <td>“Straight Up Left”: Man Fed Up By 40-Minute Wa...</td>\n",
       "      <td>entitled-people,social-issues</td>\n",
       "      <td>29</td>\n",
       "      <td>5</td>\n",
       "      <td>0</td>\n",
       "      <td>Jan 25, 2025</td>\n",
       "      <td>Entitled People, Social Issues</td>\n",
       "      <td>true</td>\n",
       "      <td>https://www.boredpanda.com/dine-dash-bad-custo...</td>\n",
       "    </tr>\n",
       "  </tbody>\n",
       "</table>\n",
       "</div>"
      ],
      "text/plain": [
       "                                                     title   \n",
       "post_id                                                      \n",
       "8046358  Woman’s Viral ‘Medical Binder’ Idea Has People...  \\\n",
       "8053723  RIP Brain Rot: Guy’s Viral Theory Suggests A M...   \n",
       "8044900  Wife Gives Husband An Ultimatum Over Stepdaugh...   \n",
       "8084910  Justin Baldoni Shoots Down Blake Lively’s Gag ...   \n",
       "8084152  “Get One Yourself!”: Mom Unplugged Baby’s NICU...   \n",
       "8081543  Billionaire Dad Shares Son’s Nighttime Stats i...   \n",
       "8084800  Contents Of VIP Goodie Bags At Trump Inaugurat...   \n",
       "8080021  Audrey Hepburn’s Son Breaks Silence On Ivanka ...   \n",
       "8080536  “Pretty Damning”: Hollywood Intimacy Coordinat...   \n",
       "8061392  “Straight Up Left”: Man Fed Up By 40-Minute Wa...   \n",
       "\n",
       "                            categories voting nr_comments nr_postings   \n",
       "post_id                                                                 \n",
       "8046358         feminism,social-issues     34           9           0  \\\n",
       "8053723                     work-money     28           3           0   \n",
       "8044900           family,relationships     30           8           0   \n",
       "8084910          celebrities-news,news    -15           5           0   \n",
       "8084152                     news,world      3          31           0   \n",
       "8081543                 lifestyle,news     -7          16           0   \n",
       "8084800                           news     -7          10           0   \n",
       "8080021                        news,us    -23          28           0   \n",
       "8080536          celebrities-news,news    -29          16           0   \n",
       "8061392  entitled-people,social-issues     29           5           0   \n",
       "\n",
       "          date_posted                 post_categories has_experimental_title   \n",
       "post_id                                                                        \n",
       "8046358  Jan 25, 2025         Feminism, Social Issues                   true  \\\n",
       "8053723  Jan 25, 2025                    Work & Money                   true   \n",
       "8044900  Jan 25, 2025           Family, Relationships                   true   \n",
       "8084910  Jan 24, 2025               Celebrities, News                  false   \n",
       "8084152  Jan 24, 2025                     News, World                  false   \n",
       "8081543  Jan 24, 2025                 Lifestyle, News                  false   \n",
       "8084800  Jan 24, 2025                            News                  false   \n",
       "8080021  Jan 24, 2025                        News, US                  false   \n",
       "8080536  Jan 24, 2025               Celebrities, News                  false   \n",
       "8061392  Jan 25, 2025  Entitled People, Social Issues                   true   \n",
       "\n",
       "                                                      link  \n",
       "post_id                                                     \n",
       "8046358  https://www.boredpanda.com/doctor-medical-bind...  \n",
       "8053723  https://www.boredpanda.com/post-brain-rot-era-...  \n",
       "8044900  https://www.boredpanda.com/father-refuses-wife...  \n",
       "8084910  https://www.boredpanda.com/justin-baldoni-resp...  \n",
       "8084152  https://www.boredpanda.com/mom-unplugs-babys-n...  \n",
       "8081543  https://www.boredpanda.com/billionaire-trying-...  \n",
       "8084800  https://www.boredpanda.com/trump-inauguration-...  \n",
       "8080021  https://www.boredpanda.com/audrey-hepburn-son-...  \n",
       "8080536  https://www.boredpanda.com/intimacy-coordinato...  \n",
       "8061392  https://www.boredpanda.com/dine-dash-bad-custo...  "
      ]
     },
     "execution_count": 17,
     "metadata": {},
     "output_type": "execute_result"
    }
   ],
   "source": [
    "results = pd.DataFrame(posts_dict).T\n",
    "results.index.name = \"post_id\"\n",
    "results.head(10)"
   ]
  },
  {
   "cell_type": "code",
   "execution_count": 18,
   "metadata": {},
   "outputs": [],
   "source": [
    "results.to_excel(\"results_check_inkl_post_data.xlsx\", header=True, index=True)"
   ]
  },
  {
   "cell_type": "markdown",
   "metadata": {},
   "source": [
    "# TESTS"
   ]
  },
  {
   "cell_type": "code",
   "execution_count": 29,
   "metadata": {},
   "outputs": [
    {
     "name": "stdout",
     "output_type": "stream",
     "text": [
      "<?xml version=\"1.0\" encoding=\"utf-8\"?>\n",
      "\n"
     ]
    }
   ],
   "source": [
    "post_url = \"https://www.boredpanda.com/awkward-parents-kids-conversations/\"\n",
    "post_r = requests.get(post_url, headers=headers)\n",
    "# post_soup = BeautifulSoup(post_r.text, 'html.parser') # 2.4s\n",
    "# post_soup = BeautifulSoup(post_r.text, 'lxml') # 1.0s\n",
    "post_soup = BeautifulSoup(post_r.text, 'xml') # AttributeError: 'NoneType' object has no attribute 'find'\n",
    "print(post_soup)\n",
    "\n",
    "# category_and_date = post_soup.find(\"div\", class_=\"categories-list\")\n",
    "\n",
    "# print(\"category:\", category_and_date.find(\"div\", class_=\"categories\").text.strip())\n",
    "# print(\"date:\", category_and_date.find(\"div\", class_=\"post-dates\").text.strip())\n",
    "\n",
    "# posts = post_soup.find_all(\"div\", class_=\"open-list-item open-list-block clearfix\")\n",
    "# post_headers = post_soup.find_all(\"div\", class_=\"open-list-header\")\n",
    "# print(len(posts))\n",
    "# print(len(post_headers))\n",
    "\n",
    "# category: Funny, Jokes\n",
    "# date: Jan 22, 2025\n",
    "# 49\n",
    "# 108"
   ]
  },
  {
   "cell_type": "code",
   "execution_count": 124,
   "metadata": {},
   "outputs": [
    {
     "name": "stdout",
     "output_type": "stream",
     "text": [
      "category: Fails, Funny\n",
      "date: Jan 21, 2025\n",
      "posts_shown: 39\n",
      "posts_total: 100\n",
      "3\n",
      "authors_str: Eglė Bliabaitė, Kornelija Viečaitė, Jonas Zvilius\n",
      "authors_type: Author,\n",
      "authors_type2: Author, , Author, , Writer, , Writer, , Author, , Author, \n",
      "authors_role:  Author,  BoredPanda staff ,  Author,  BoredPanda staff ,  Writer,  BoredPanda staff ,  Writer,  BoredPanda staff ,  Author,  BoredPanda staff ,  Author,  BoredPanda staff \n",
      "authors_role2: [' Author,  BoredPanda staff ', ' Author,  BoredPanda staff ', ' Writer,  BoredPanda staff ', ' Writer,  BoredPanda staff ', ' Author,  BoredPanda staff ', ' Author,  BoredPanda staff ']\n",
      "\n",
      "\n",
      "category: Funny, Jokes\n",
      "date: Jan 22, 2025\n",
      "posts_shown: 49\n",
      "posts_total: 108\n",
      "3\n",
      "authors_str: Aurelija Rakauskaitė, Austeja Zokaite, Rugile Baltrunaite\n",
      "authors_type: Author,\n",
      "authors_type2: Author, , Author, , Writer, , Writer, , Author, , Author, \n",
      "authors_role:  Author,  BoredPanda staff ,  Author,  BoredPanda staff ,  Writer,  BoredPanda staff ,  Writer,  BoredPanda staff ,  Author,  BoredPanda staff ,  Author,  BoredPanda staff \n",
      "authors_role2: [' Author,  BoredPanda staff ', ' Author,  BoredPanda staff ', ' Writer,  BoredPanda staff ', ' Writer,  BoredPanda staff ', ' Author,  BoredPanda staff ', ' Author,  BoredPanda staff ']\n",
      "\n",
      "\n",
      "category: Animals, Dogs\n",
      "date: Jan 24, 2025\n",
      "posts_shown: 35\n",
      "posts_total: 35\n",
      "1\n",
      "authors_str: Hidrėlėy\n",
      "authors_type: Pro member\n",
      "authors_type2: Pro member, Author, , Author, , Moderator, , Moderator, \n",
      "authors_role:  Author,  Pro member ,  Author,  Pro member ,  Moderator,  BoredPanda staff ,  Moderator,  BoredPanda staff \n",
      "authors_role2: [' Author,  Pro member ', ' Author,  Pro member ', ' Moderator,  BoredPanda staff ', ' Moderator,  BoredPanda staff ']\n",
      "\n",
      "\n",
      "category: Funny, Jokes\n",
      "date: Jan 22, 2025\n",
      "posts_shown: 49\n",
      "posts_total: 108\n",
      "3\n",
      "authors_str: Aurelija Rakauskaitė, Austeja Zokaite, Rugile Baltrunaite\n",
      "authors_type: Author,\n",
      "authors_type2: Author, , Author, , Writer, , Writer, , Author, , Author, \n",
      "authors_role:  Author,  BoredPanda staff ,  Author,  BoredPanda staff ,  Writer,  BoredPanda staff ,  Writer,  BoredPanda staff ,  Author,  BoredPanda staff ,  Author,  BoredPanda staff \n",
      "authors_role2: [' Author,  BoredPanda staff ', ' Author,  BoredPanda staff ', ' Writer,  BoredPanda staff ', ' Writer,  BoredPanda staff ', ' Author,  BoredPanda staff ', ' Author,  BoredPanda staff ']\n",
      "\n",
      "\n"
     ]
    }
   ],
   "source": [
    "\n",
    "post_urls = [\"https://www.boredpanda.com/unfortunate-public-interior-designs/\",\n",
    "             \"https://www.boredpanda.com/awkward-parents-kids-conversations/\",\n",
    "             \"https://www.boredpanda.com/dogs-in-street-photography-streetphotographersfdn/\",\n",
    "             \"https://www.boredpanda.com/awkward-parents-kids-conversations/\"]\n",
    "\n",
    "\n",
    "#    <p class=\"author-role\"> <span class=\"member-type community\">Author, </span> <span>BoredPanda staff</span> </p>\n",
    "\n",
    "\n",
    "for post_url in post_urls:\n",
    "    post_r = requests.get(post_url, headers=headers)\n",
    "    post_soup = BeautifulSoup(post_r.text, 'html.parser')\n",
    "\n",
    "    category_and_date = post_soup.find(\"div\", class_=\"categories-list\")\n",
    "\n",
    "    print(\"category:\", category_and_date.find(\"div\", class_=\"categories\").text.strip())\n",
    "    print(\"date:\", category_and_date.find(\"div\", class_=\"post-dates\").text.strip())\n",
    "\n",
    "    posts = post_soup.find_all(\"div\", class_=\"open-list-item open-list-block clearfix\")\n",
    "    post_headers = post_soup.find_all(\"div\", class_=\"open-list-header\")\n",
    "    print(\"posts_shown:\", len(posts))\n",
    "    print(\"posts_total:\", len(post_headers))\n",
    "\n",
    "    #authors = post_soup.find(\"div\", class_=\"post-authors-content\")\n",
    "    authors = post_soup.find_all(\"a\", class_=\"author\")\n",
    "    print(len(authors))\n",
    "    authors_str = \" | \".join([a.text.strip() for a in authors])\n",
    "    authors_type = post_soup.find(\"span\", class_=\"member-type community\")\n",
    "    authors_type2_ls = post_soup.find_all(\"span\", class_=\"member-type community\")\n",
    "    authors_type2 = \", \".join([at2.text for at2 in authors_type2_ls])\n",
    "    authors_role_ls = post_soup.find_all(\"p\", class_=\"author-role\")\n",
    "    authors_role = \", \".join([ar.text for ar in authors_role_ls])\n",
    "    authors_role2 = [ar.text for ar in authors_role_ls]\n",
    "\n",
    "    print(\"authors_str:\", authors_str)\n",
    "    print(\"authors_type:\", authors_type.text.strip())\n",
    "    print(\"authors_type2:\", authors_type2)\n",
    "    print(\"authors_role:\", authors_role)\n",
    "    print(\"authors_role2:\", authors_role2)\n",
    "    print(\"\\n\")"
   ]
  },
  {
   "cell_type": "code",
   "execution_count": 90,
   "metadata": {},
   "outputs": [
    {
     "name": "stdout",
     "output_type": "stream",
     "text": [
      "category: Animals, Dogs\n",
      "date: Jan 24, 2025\n",
      "1\n",
      "Hidrėlėy\n",
      "Pro member\n",
      "35\n",
      "35\n"
     ]
    }
   ],
   "source": [
    "post_url = \"https://www.boredpanda.com/dogs-in-street-photography-streetphotographersfdn/\"\n",
    "post_r = requests.get(post_url, headers=headers)\n",
    "post_soup = BeautifulSoup(post_r.text, 'html.parser')\n",
    "\n",
    "category_and_date = post_soup.find(\"div\", class_=\"categories-list\")\n",
    "\n",
    "print(\"category:\", category_and_date.find(\"div\", class_=\"categories\").text.strip())\n",
    "print(\"date:\", category_and_date.find(\"div\", class_=\"post-dates\").text.strip())\n",
    "\n",
    "posts = post_soup.find_all(\"div\", class_=\"open-list-item open-list-block clearfix\")\n",
    "post_headers = post_soup.find_all(\"div\", class_=\"open-list-header\")\n",
    "\n",
    "authors = post_soup.find_all(\"a\", class_=\"author\")\n",
    "print(len(authors))\n",
    "authors_str = \", \".join([a.text for a in authors])\n",
    "authors_type = post_soup.find(\"span\", class_=\"member-type community\")\n",
    "\n",
    "print(authors_str)\n",
    "print(authors_type.text.strip())\n",
    "print(len(posts))\n",
    "print(len(post_headers))"
   ]
  },
  {
   "cell_type": "code",
   "execution_count": 91,
   "metadata": {},
   "outputs": [
    {
     "name": "stdout",
     "output_type": "stream",
     "text": [
      "category: Funny, Jokes\n",
      "date: Jan 22, 2025\n",
      "3\n",
      "Aurelija Rakauskaitė, Austeja Zokaite, Rugile Baltrunaite\n",
      "Author,\n",
      "49\n",
      "108\n"
     ]
    }
   ],
   "source": [
    "post_url = \"https://www.boredpanda.com/awkward-parents-kids-conversations/\"\n",
    "post_r = requests.get(post_url, headers=headers)\n",
    "post_soup = BeautifulSoup(post_r.text, 'html.parser')\n",
    "\n",
    "category_and_date = post_soup.find(\"div\", class_=\"categories-list\")\n",
    "\n",
    "print(\"category:\", category_and_date.find(\"div\", class_=\"categories\").text.strip())\n",
    "print(\"date:\", category_and_date.find(\"div\", class_=\"post-dates\").text.strip())\n",
    "\n",
    "posts = post_soup.find_all(\"div\", class_=\"open-list-item open-list-block clearfix\")\n",
    "post_headers = post_soup.find_all(\"div\", class_=\"open-list-header\")\n",
    "\n",
    "authors = post_soup.find_all(\"a\", class_=\"author\")\n",
    "print(len(authors))\n",
    "authors_str = \", \".join([a.text for a in authors])\n",
    "authors_type = post_soup.find(\"span\", class_=\"member-type community\")\n",
    "\n",
    "print(authors_str)\n",
    "print(authors_type.text.strip())\n",
    "print(len(posts))\n",
    "print(len(post_headers))"
   ]
  },
  {
   "cell_type": "markdown",
   "metadata": {},
   "source": [
    "## ASYNC PARSING"
   ]
  },
  {
   "cell_type": "code",
   "execution_count": 42,
   "metadata": {},
   "outputs": [
    {
     "data": {
      "text/plain": [
       "2"
      ]
     },
     "execution_count": 42,
     "metadata": {},
     "output_type": "execute_result"
    }
   ],
   "source": [
    "urls = results[\"link\"].to_list()[:2]\n",
    "len(urls)"
   ]
  },
  {
   "cell_type": "code",
   "execution_count": 65,
   "metadata": {},
   "outputs": [
    {
     "name": "stdout",
     "output_type": "stream",
     "text": [
      "Feminism, Social Issues Jan 25, 2025 0 0\n",
      "['Feminism, Social Issues', 'Jan 25, 2025', 0, 0]\n"
     ]
    },
    {
     "name": "stderr",
     "output_type": "stream",
     "text": [
      "c:\\Users\\nickm\\AppData\\Local\\Programs\\Python\\Python311\\Lib\\site-packages\\bs4\\element.py:955: RuntimeWarning: coroutine 'main' was never awaited\n",
      "  u.setup()\n",
      "RuntimeWarning: Enable tracemalloc to get the object allocation traceback\n"
     ]
    }
   ],
   "source": [
    "import aiohttp\n",
    "import asyncio\n",
    "import concurrent.futures\n",
    "from bs4 import BeautifulSoup\n",
    "\n",
    "async def fetch(url):\n",
    "    async with aiohttp.ClientSession() as session:\n",
    "        async with session.get(url) as response:\n",
    "            return await response.text()\n",
    "\n",
    "async def parse(html_doc, loop):\n",
    "    post_soup = await loop.run_in_executor(None, BeautifulSoup, html_doc, 'html.parser')\n",
    "\n",
    "    post_categories_date = post_soup.find(\"div\", class_=\"categories-list\")\n",
    "    post_categories = post_categories_date.find(\"div\", class_=\"categories\").text.strip()\n",
    "    post_date = post_categories_date.find(\"div\", class_=\"post-dates\").text.strip()\n",
    "    posts_total = post_soup.find_all(\"div\", class_=\"open-list-header\")\n",
    "    posts_shown = post_soup.find_all(\"div\", class_=\"open-list-item open-list-block clearfix\")\n",
    "    nr_postings_total = len(posts_total)\n",
    "    nr_postings_shown = len(posts_shown)\n",
    "    print(post_categories, post_date, nr_postings_total, nr_postings_shown)\n",
    "    return [post_categories, post_date, nr_postings_total, nr_postings_shown]\n",
    "\n",
    "\n",
    "async def main(url):\n",
    "    html = await fetch(url)\n",
    "    output = await parse(html, loop)\n",
    "    print(output)\n",
    "    # tasks = []\n",
    "    # for url in urls:\n",
    "    #     result = await loop.run_in_executor(None, parse(fetch(url)))\n",
    "    #     return await result\n",
    "    #     task = asyncio.create_task(parse(fetch(url)))\n",
    "    #     tasks.append(task)\n",
    "    # await asyncio.gather(*tasks)\n",
    "\n",
    "\n",
    "url=urls[0]\n",
    "\n",
    "await main(url)\n",
    "\n",
    "# loop = asyncio.get_event_loop()\n",
    "# loop_result = loop.run_until_complete(main(loop))\n",
    "# loop.close()\n",
    "# loop_result = loop.run_until_complete(main())\n",
    "#asyncio.run(main(url))"
   ]
  },
  {
   "cell_type": "code",
   "execution_count": 114,
   "metadata": {},
   "outputs": [
    {
     "data": {
      "text/plain": [
       "1737920831.1241124"
      ]
     },
     "execution_count": 114,
     "metadata": {},
     "output_type": "execute_result"
    }
   ],
   "source": [
    "import time\n",
    "\n",
    "time.time()"
   ]
  },
  {
   "cell_type": "code",
   "execution_count": 117,
   "metadata": {},
   "outputs": [
    {
     "name": "stdout",
     "output_type": "stream",
     "text": [
      "1737920891.0076556 1737920894.0129297 3.0052740573883057\n"
     ]
    }
   ],
   "source": [
    "import time\n",
    "\n",
    "start = time.strftime('%X')\n",
    "start = time.time()\n",
    "time.sleep(3)\n",
    "end = time.strftime('%X')\n",
    "end = time.time()\n",
    "\n",
    "print(start, end, end-start)"
   ]
  },
  {
   "cell_type": "code",
   "execution_count": 130,
   "metadata": {},
   "outputs": [
    {
     "data": {
      "text/plain": [
       "page_link\n",
       "https://www.boredpanda.com/page/1/    32\n",
       "https://www.boredpanda.com/page/4/    20\n",
       "https://www.boredpanda.com/page/3/    20\n",
       "https://www.boredpanda.com/page/2/    20\n",
       "https://www.boredpanda.com/page/5/    20\n",
       "Name: count, dtype: int64"
      ]
     },
     "execution_count": 130,
     "metadata": {},
     "output_type": "execute_result"
    }
   ],
   "source": [
    "df = pd.read_excel(\"c:/Users/nickm/Desktop/Coding/Projects/blog-post-sentiment-analysis/scraping_asyncio_test2.xlsx\", index_col=0)\n",
    "\n",
    "df[\"page_link\"].value_counts()"
   ]
  },
  {
   "cell_type": "code",
   "execution_count": 135,
   "metadata": {},
   "outputs": [
    {
     "name": "stdout",
     "output_type": "stream",
     "text": [
      "bananas\n"
     ]
    }
   ],
   "source": [
    "a = 2\n",
    "\n",
    "print(f\"banana{'s' if a > 1 else ''}\")"
   ]
  }
 ],
 "metadata": {
  "kernelspec": {
   "display_name": "Python 3",
   "language": "python",
   "name": "python3"
  },
  "language_info": {
   "codemirror_mode": {
    "name": "ipython",
    "version": 3
   },
   "file_extension": ".py",
   "mimetype": "text/x-python",
   "name": "python",
   "nbconvert_exporter": "python",
   "pygments_lexer": "ipython3",
   "version": "3.11.3"
  }
 },
 "nbformat": 4,
 "nbformat_minor": 2
}
